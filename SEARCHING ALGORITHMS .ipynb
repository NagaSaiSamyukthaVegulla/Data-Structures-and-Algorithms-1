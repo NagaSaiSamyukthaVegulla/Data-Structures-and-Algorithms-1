{
 "cells": [
  {
   "cell_type": "markdown",
   "id": "c8359c61",
   "metadata": {},
   "source": [
    "# Linear Search Algorithm "
   ]
  },
  {
   "cell_type": "code",
   "execution_count": 1,
   "id": "6cc589bd",
   "metadata": {},
   "outputs": [
    {
     "name": "stdout",
     "output_type": "stream",
     "text": [
      "1 2 3 4 5\n",
      "3\n",
      "Element is present at index 2\n"
     ]
    }
   ],
   "source": [
    "def search(arr,x):       # defining a function named search with one array and a number \n",
    "    for i in range(0,len(arr)): # iterating through the array for starting to ending \n",
    "        if arr[i] == x:        # comparing of the every single element in the array with given number x\n",
    "            return i           # if the condition satisfies returning the index of \n",
    "    return -1\n",
    "if __name__ == \"__main__\":\n",
    "    arr = list(map(int,input().split()))\n",
    "    x = int(input())\n",
    "    result = search(arr,x)\n",
    "    if result == -1:\n",
    "        print(\"Element not found\")\n",
    "    else:\n",
    "        print(\"Element is present at index\",result)"
   ]
  },
  {
   "cell_type": "markdown",
   "id": "f8117813",
   "metadata": {},
   "source": [
    "# Binary Search Algorithm\n",
    "\n",
    "Iterative Binary Search Algorithm"
   ]
  },
  {
   "cell_type": "code",
   "execution_count": 3,
   "id": "3fa4d3e8",
   "metadata": {},
   "outputs": [
    {
     "name": "stdout",
     "output_type": "stream",
     "text": [
      "3 2 4 1 5\n",
      "4\n",
      "Element is at the index 3\n"
     ]
    }
   ],
   "source": [
    "def binarysearch(arr,low,high,x):   # defining the function\n",
    "    while (low<=high):              # The loop iterates up to the low value becomes less than or equal to high value\n",
    "        mid = low + (high-low)//2   # Defining the middle value index\n",
    "        if arr[mid] == x:           # if the middle value is equal to the number that we need return the mid i.e., index.\n",
    "            return mid\n",
    "        elif arr[mid] < x :         # if the middle value is less than the x then the right of the array is used \n",
    "            low = mid + 1           # the low value changes i.e., middle + 1\n",
    "        else:                       # if the middle value is greater than x then the left of the array is used.\n",
    "            high = mid-1            # The high values changes to mid - 1 \n",
    "    return -1 \n",
    "if __name__ == \"__main__\":\n",
    "    arr = list(map(int,input().split()))\n",
    "    arr = sorted(arr)\n",
    "    x = int(input())\n",
    "    result = binarysearch(arr,0,len(arr)-1,x)\n",
    "    if result != -1:\n",
    "        print(\"Element is at the index\",result)\n",
    "    else:\n",
    "        print(\"Element not found\")"
   ]
  },
  {
   "cell_type": "markdown",
   "id": "0c3e3723",
   "metadata": {},
   "source": [
    "# Binary Search Algorithm \n",
    "\n",
    "Recursive Binary Search Algorithm"
   ]
  },
  {
   "cell_type": "code",
   "execution_count": 4,
   "id": "3fcd2ed1",
   "metadata": {},
   "outputs": [
    {
     "name": "stdout",
     "output_type": "stream",
     "text": [
      "3 2 4 1 5\n",
      "4\n",
      "Element is at the index 3\n"
     ]
    }
   ],
   "source": [
    "def binarysearch(arr,low,high,x):   # defining the function\n",
    "    if high >= low:                 # cheching the condition that if the high value is greater than or equal to low value \n",
    "        mid = low + (high-low)//2   # Identifying the middle value \n",
    "        if arr[mid] == x :          # # if the middle value is equal to the number that we need return the mid i.e., index.\n",
    "            return mid              # return the index.\n",
    "        elif arr[mid] > x:          # else if the middle value is greater than the x then the x is present in the left side \n",
    "            return binarysearch(arr,0,mid-1,x)  # The function recursively calls binarysearch on the left half of the array by updating high to mid - 1.\n",
    "        else:                       #  # else the middle value is smaller than the x then the x is present in the right side \n",
    "            return binarysearch(arr,mid+1,high,x) #The function recursively calls binarysearch on the right half of the array by updating low to mid + 1.\n",
    "    else:\n",
    "        return -1\n",
    "if __name__ == \"__main__\":\n",
    "    arr = list(map(int,input().split()))\n",
    "    arr = sorted(arr)\n",
    "    x = int(input())\n",
    "    result = binarysearch(arr,0,len(arr)-1,x)\n",
    "    if result != -1:\n",
    "        print(\"Element is at the index\",result)\n",
    "    else:\n",
    "        print(\"Element not found\")"
   ]
  },
  {
   "cell_type": "code",
   "execution_count": null,
   "id": "d6806b19",
   "metadata": {},
   "outputs": [],
   "source": []
  }
 ],
 "metadata": {
  "kernelspec": {
   "display_name": "Python 3",
   "language": "python",
   "name": "python3"
  },
  "language_info": {
   "codemirror_mode": {
    "name": "ipython",
    "version": 3
   },
   "file_extension": ".py",
   "mimetype": "text/x-python",
   "name": "python",
   "nbconvert_exporter": "python",
   "pygments_lexer": "ipython3",
   "version": "3.8.8"
  }
 },
 "nbformat": 4,
 "nbformat_minor": 5
}
